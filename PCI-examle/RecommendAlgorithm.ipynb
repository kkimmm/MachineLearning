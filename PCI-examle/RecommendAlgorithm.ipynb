{
 "cells": [
  {
   "cell_type": "code",
   "execution_count": 1,
   "metadata": {
    "collapsed": true
   },
   "outputs": [],
   "source": [
    "critics={'Lisa Rose': {'Lady in the Water': 2.5, 'Snakes on a Plane': 3.5,\n",
    " 'Just My Luck': 3.0, 'Superman Returns': 3.5, 'You, Me and Dupree': 2.5, \n",
    " 'The Night Listener': 3.0},\n",
    "'Gene Seymour': {'Lady in the Water': 3.0, 'Snakes on a Plane': 3.5, \n",
    " 'Just My Luck': 1.5, 'Superman Returns': 5.0, 'The Night Listener': 3.0, \n",
    " 'You, Me and Dupree': 3.5}, \n",
    "'Michael Phillips': {'Lady in the Water': 2.5, 'Snakes on a Plane': 3.0,\n",
    " 'Superman Returns': 3.5, 'The Night Listener': 4.0},\n",
    "'Claudia Puig': {'Snakes on a Plane': 3.5, 'Just My Luck': 3.0,\n",
    " 'The Night Listener': 4.5, 'Superman Returns': 4.0, \n",
    " 'You, Me and Dupree': 2.5},\n",
    "'Mick LaSalle': {'Lady in the Water': 3.0, 'Snakes on a Plane': 4.0, \n",
    " 'Just My Luck': 2.0, 'Superman Returns': 3.0, 'The Night Listener': 3.0,\n",
    " 'You, Me and Dupree': 2.0}, \n",
    "'Jack Matthews': {'Lady in the Water': 3.0, 'Snakes on a Plane': 4.0,\n",
    " 'The Night Listener': 3.0, 'Superman Returns': 5.0, 'You, Me and Dupree': 3.5},\n",
    "'Toby': {'Snakes on a Plane':4.5,'You, Me and Dupree':1.0,'Superman Returns':4.0}}"
   ]
  },
  {
   "cell_type": "code",
   "execution_count": 2,
   "metadata": {
    "collapsed": true
   },
   "outputs": [],
   "source": [
    "# #----测试-----\n",
    "# print(critics['Lisa Rose'],'\\n')\n",
    "\n",
    "# for i in critics['Lisa Rose']:\n",
    "#     print(i)\n",
    "# print('\\n')\n",
    "# print(sum(critics['Lisa Rose'][i] for i in  critics['Lisa Rose']))\n",
    "# print('\\n')\n",
    "# si = {}\n",
    "# for i in critics['Lisa Rose']: \n",
    "#     if i in critics['Gene Seymour']: si[i]=1\n",
    "# print(si,'\\n')\n",
    "# sum_of_squares=sum([pow(critics['Lisa Rose'][i]-critics['Gene Seymour'][i],2) \n",
    "#                     for i in critics['Lisa Rose'] if i in critics['Gene Seymour']])\n",
    "# print(1/(1+sum_of_squares),'\\n')\n"
   ]
  },
  {
   "cell_type": "code",
   "execution_count": 3,
   "metadata": {
    "collapsed": true
   },
   "outputs": [],
   "source": [
    "#----------------------------------------------------------------\n",
    "#--------------user-based collaborative filtering----------------\n",
    "#----------------------------------------------------------------\n",
    "from math import sqrt\n",
    "\n",
    "# Returns a distance-based similarity score for person1 and person2\n",
    "def sim_distance(prefs,person1,person2):   #使用欧几里得距离计算相似度\n",
    "    # Get the list of shared_items\n",
    "    si={}   #创建一个空字典用来存放共同特征\n",
    "    for i in prefs[person1]: \n",
    "        if i in prefs[person2]: \n",
    "            si[i]=1   #共同拥有的特征（即共同看过并评分的电影）标记为1\n",
    "            \n",
    "    # if they have no ratings in common, return 0\n",
    "    if len(si)==0: \n",
    "        return 0\n",
    "    else:\n",
    "        #核心代码\n",
    "        sum_of_squares=sum([pow(prefs[person1][i]-prefs[person2][i],2) \n",
    "                      for i in prefs[person1] if i in prefs[person2]])#对于person1和person2共同拥有的特征i（即共同看过并评分\n",
    "        #的电影），计算他们之间所有的（评分）差的平方和\n",
    "    return 1/(1+sqrt(sum_of_squares))#加1避免出现0，取倒数使得值的范围在【0，1】之间"
   ]
  },
  {
   "cell_type": "code",
   "execution_count": 4,
   "metadata": {},
   "outputs": [
    {
     "data": {
      "text/plain": [
       "0.3405424265831667"
      ]
     },
     "execution_count": 4,
     "metadata": {},
     "output_type": "execute_result"
    }
   ],
   "source": [
    "#-----测试------\n",
    "sim_distance(critics,'Lisa Rose','Jack Matthews')"
   ]
  },
  {
   "cell_type": "code",
   "execution_count": 8,
   "metadata": {},
   "outputs": [],
   "source": [
    "def sim_pearson(prefs,p1,p2):  #使用皮尔逊相关系数计算相似度\n",
    "    #得到双方都曾评价过的影片列表\n",
    "    si={} \n",
    "    for item in prefs[p1]: \n",
    "        if item in prefs[p2]: si[item]=1\n",
    "    n=len(si)\n",
    "    # if they are no ratings in common, return 0\n",
    "    if n==0: \n",
    "        return 0\n",
    "    else:\n",
    "        # 对所有偏好求和\n",
    "        sum1=sum([prefs[p1][it] for it in si])\n",
    "        sum2=sum([prefs[p2][it] for it in si])\n",
    "        # 求平方和\n",
    "        sum1Sq=sum([pow(prefs[p1][it],2) for it in si])\n",
    "        sum2Sq=sum([pow(prefs[p2][it],2) for it in si])\t\n",
    "        # 求乘积之和\n",
    "        pSum=sum([prefs[p1][it]*prefs[p2][it] for it in si])\n",
    "        \n",
    "        # 利用皮尔逊相关系数公式，求皮尔逊相关系数\n",
    "        num=pSum-(sum1*sum2/n)\n",
    "        den=sqrt((sum1Sq-pow(sum1,2)/n)*(sum2Sq-pow(sum2,2)/n))\n",
    "        if den==0: \n",
    "            return 0 #如果分母为零则返回0避免出错\n",
    "        else:\n",
    "            r=num/den\n",
    "        return r"
   ]
  },
  {
   "cell_type": "code",
   "execution_count": 9,
   "metadata": {},
   "outputs": [
    {
     "data": {
      "text/plain": [
       "0.7470178808339965"
      ]
     },
     "execution_count": 9,
     "metadata": {},
     "output_type": "execute_result"
    }
   ],
   "source": [
    "#-----测试-----\n",
    "sim_pearson(critics,'Lisa Rose','Jack Matthews')"
   ]
  },
  {
   "cell_type": "code",
   "execution_count": 10,
   "metadata": {
    "collapsed": true
   },
   "outputs": [],
   "source": [
    "def topMatches(prefs,person,n=5,similarity=sim_pearson): #注意到n和similarity赋了初值，意味着n和similarity在函数调用时可以缺省\n",
    "    scores=[(similarity(prefs,person,otherPerson),otherPerson) \n",
    "            for otherPerson in prefs if otherPerson!=person] #将函数传入的这个人与字典prefs中的其他人分别比较（他们之间的相似度）\n",
    "    scores.sort()#对列表socre进行排序（sort函数默认升序排列）\n",
    "    scores.reverse()\n",
    "    return scores[0:n]"
   ]
  },
  {
   "cell_type": "code",
   "execution_count": 11,
   "metadata": {},
   "outputs": [
    {
     "data": {
      "text/plain": [
       "[(0.9912407071619299, 'Toby'),\n",
       " (0.7470178808339965, 'Jack Matthews'),\n",
       " (0.5940885257860044, 'Mick LaSalle'),\n",
       " (0.5669467095138396, 'Claudia Puig'),\n",
       " (0.40451991747794525, 'Michael Phillips')]"
      ]
     },
     "execution_count": 11,
     "metadata": {},
     "output_type": "execute_result"
    }
   ],
   "source": [
    "#----测试----\n",
    "topMatches(critics,'Lisa Rose')#可以缺省n和similarity，根据输出即可知道谁与Lisa Rose品味最相近"
   ]
  },
  {
   "cell_type": "code",
   "execution_count": 12,
   "metadata": {
    "collapsed": true
   },
   "outputs": [],
   "source": [
    "def getRecommendations(prefs,person,similarity=sim_pearson): #利用他人对影片评价的加权（权值依据前面计算的相似度赋值）平均得分来为某人提供推荐\n",
    "    totals={}\n",
    "    simSums={}\n",
    "    for other in prefs:\n",
    "        if other==person: \n",
    "            continue #自己不用与自己比较，忽略自己与自己的相似度计算\n",
    "        else:\n",
    "            sim=similarity(prefs,person,other)#计算自己与其他所有人的相似度\n",
    "            \n",
    "        if sim<=0:\n",
    "            continue #相似度于等于零的忽略\n",
    "        else:\n",
    "            for item in prefs[other]:\n",
    "                if item not in prefs[person] or prefs[person][item]==0:  #只对自己还未看过的影片进行评分推荐\n",
    "                    # Similarity * Score\n",
    "                    totals.setdefault(item,0)\n",
    "                    totals[item]+=prefs[other][item]*sim\n",
    "                    # Sum of similarities\n",
    "                    simSums.setdefault(item,0)\n",
    "                    simSums[item]+=sim\n",
    "    #建立归一化列表\n",
    "    rankings=[(total/simSums[item],item) for item,total in totals.items()]\n",
    "    \n",
    "    # Return the sorted list\n",
    "    rankings.sort()\n",
    "    rankings.reverse()\n",
    "    return rankings"
   ]
  },
  {
   "cell_type": "code",
   "execution_count": 13,
   "metadata": {},
   "outputs": [
    {
     "data": {
      "text/plain": [
       "[(3.3477895267131017, 'The Night Listener'),\n",
       " (2.8325499182641614, 'Lady in the Water'),\n",
       " (2.530980703765565, 'Just My Luck')]"
      ]
     },
     "execution_count": 13,
     "metadata": {},
     "output_type": "execute_result"
    }
   ],
   "source": [
    "#----测试-----\n",
    "getRecommendations(critics,'Toby')"
   ]
  },
  {
   "cell_type": "code",
   "execution_count": 23,
   "metadata": {},
   "outputs": [],
   "source": [
    "#----------------------------------------------------------------\n",
    "#--------------item-based collaborative filtering----------------\n",
    "#----------------------------------------------------------------\n",
    "def transformPrefs(prefs):#首先将用户和物品置换位置\n",
    "    result={}\n",
    "    for person in prefs:\n",
    "        for item in prefs[person]:\n",
    "            result.setdefault(item,{})\n",
    "            # Flip item and person\n",
    "            result[item][person]=prefs[person][item]\n",
    "    return result\n",
    "# #------测试-------\n",
    "# transformPrefs(critics)"
   ]
  },
  {
   "cell_type": "code",
   "execution_count": 28,
   "metadata": {
    "scrolled": true
   },
   "outputs": [],
   "source": [
    "def calculateSimilarItems(prefs,n=10):#计算物品间的相似性\n",
    "    result={}\n",
    "    itemPrefs=transformPrefs(prefs)\n",
    "    c=0\n",
    "    for item in itemPrefs:\n",
    "        #针对大数据集更新状态变量\n",
    "        c+=1\n",
    "        if c%100==0: print (\"%d / %d\")% (c,len(itemPrefs))\n",
    "            \n",
    "        #利用前面的函数计算两个「物品」之间的相似度\n",
    "        scores=topMatches(itemPrefs,item,n=n,similarity=sim_distance)\n",
    "        result[item]=scores\n",
    "    return result\n",
    "# #------测试-----------\n",
    "# calculateSimilarItems(critics)"
   ]
  },
  {
   "cell_type": "code",
   "execution_count": 30,
   "metadata": {
    "collapsed": true
   },
   "outputs": [],
   "source": [
    "def getRecommendedItems(prefs,itemMatch,user):\n",
    "    userRatings=prefs[user]\n",
    "    scores={}\n",
    "    totalSim={}\n",
    "    #循环遍历当前用户评分的物品\n",
    "    for (item,rating) in userRatings.items():\n",
    "        # 循环遍历与当前物品相近的物品\n",
    "        for (similarity,item2) in itemMatch[item]:\n",
    "            # 用户已经对当前物品评价则忽略\n",
    "            if item2 in userRatings: continue\n",
    "            # 评价值与相似度加权和\n",
    "            scores.setdefault(item2,0)\n",
    "            scores[item2]+=similarity*rating\n",
    "            # 全部相似度之和\n",
    "            totalSim.setdefault(item2,0)\n",
    "            totalSim[item2]+=similarity\n",
    "\n",
    "    rankings=[(score/totalSim[item],item) for item,score in scores.items( )]\n",
    "    rankings.sort()\n",
    "    rankings.reverse()\n",
    "    return rankings"
   ]
  },
  {
   "cell_type": "code",
   "execution_count": null,
   "metadata": {
    "collapsed": true
   },
   "outputs": [],
   "source": []
  }
 ],
 "metadata": {
  "kernelspec": {
   "display_name": "Python 3",
   "language": "python",
   "name": "python3"
  },
  "language_info": {
   "codemirror_mode": {
    "name": "ipython",
    "version": 3
   },
   "file_extension": ".py",
   "mimetype": "text/x-python",
   "name": "python",
   "nbconvert_exporter": "python",
   "pygments_lexer": "ipython3",
   "version": "3.6.3"
  }
 },
 "nbformat": 4,
 "nbformat_minor": 2
}
