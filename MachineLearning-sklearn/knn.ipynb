{
 "cells": [
  {
   "cell_type": "code",
   "execution_count": 32,
   "metadata": {},
   "outputs": [
    {
     "name": "stdout",
     "output_type": "stream",
     "text": [
      "预测结果将该点分类为分类为： [1]\n"
     ]
    }
   ],
   "source": [
    "#导入NearestNeighbor包 和 numpy\n",
    "from sklearn.neighbors import NearestNeighbors\n",
    "import numpy as np\n",
    "\n",
    "#定义数组x表示数据，y表示分类标签\n",
    "X = np.array([[-1,-1],[-2,-1],[-3,-2],[1,1],[2,1],[3,2]])\n",
    "y = np.array([1,0,1,1,0,1])\n",
    "\"\"\"\n",
    "n_neighbors=5,默认值为5，表示查询k个最近邻的数目，不能太小也不能太大\n",
    "algorithm='auto',指定用于计算最近邻的算法，auto表示试图采用最适合的算法计算最近邻\n",
    "fit(X)表示用X来训练算法\n",
    "\"\"\"\n",
    "nbrs = neighbors.KNeighborsClassifier()\n",
    "nbrs.fit(X,y)\n",
    "#返回距离每个点k个最近的点和距离指数，indices可以理解为表示点的下标，distances为距离\n",
    "print('预测结果将该点分类为分类为：',nbrs.predict([[-1,0]]))\n"
   ]
  },
  {
   "cell_type": "code",
   "execution_count": 39,
   "metadata": {},
   "outputs": [
    {
     "name": "stdout",
     "output_type": "stream",
     "text": [
      "[2 0 1]\n",
      "['virginica' 'setosa' 'versicolor']\n"
     ]
    }
   ],
   "source": [
    "from sklearn.datasets import load_iris\n",
    "from sklearn import neighbors\n",
    "import sklearn\n",
    "\n",
    "#查看iris数据集\n",
    "iris = load_iris()\n",
    "#print (iris)\n",
    "\n",
    "knn = neighbors.KNeighborsClassifier()\n",
    "#训练数据集A\n",
    "knn.fit(iris.data, iris.target)\n",
    "\n",
    "pre_data = np.array([[1,2,4,5],[1,1,1,1],[1,2,3,4]])#待预测数据\n",
    "predict = knn.predict(pre_data)#预测\n",
    "print (predict)\n",
    "print (iris.target_names[predict])"
   ]
  },
  {
   "cell_type": "code",
   "execution_count": null,
   "metadata": {
    "collapsed": true
   },
   "outputs": [],
   "source": []
  }
 ],
 "metadata": {
  "kernelspec": {
   "display_name": "Python 3",
   "language": "python",
   "name": "python3"
  },
  "language_info": {
   "codemirror_mode": {
    "name": "ipython",
    "version": 3
   },
   "file_extension": ".py",
   "mimetype": "text/x-python",
   "name": "python",
   "nbconvert_exporter": "python",
   "pygments_lexer": "ipython3",
   "version": "3.6.3"
  }
 },
 "nbformat": 4,
 "nbformat_minor": 2
}
