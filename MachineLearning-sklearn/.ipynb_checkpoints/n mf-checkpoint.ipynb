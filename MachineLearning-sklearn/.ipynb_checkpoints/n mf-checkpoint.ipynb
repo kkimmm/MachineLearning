{
 "cells": [
  {
   "cell_type": "code",
   "execution_count": null,
   "metadata": {},
   "outputs": [],
   "source": [
    "from numpy.random import RandomState\n",
    "import matplotlib.pyplot as plt\n",
    "from sklearn.datasets import fetch_olivetti_faces\n",
    "from sklearn import decomposition\n",
    "\n",
    "\n",
    "n_row, n_col = 2, 3\n",
    "n_components = n_row * n_col\n",
    "image_shape = (64, 64)\n",
    "\n",
    "\n",
    "###############################################################################\n",
    "# Load faces data\n",
    "dataset = fetch_olivetti_faces(shuffle=True, random_state=RandomState(0))\n",
    "faces = dataset.data\n",
    "\n",
    "###############################################################################\n",
    "def plot_gallery(title, images, n_col=n_col, n_row=n_row):\n",
    "    plt.figure(figsize=(2. * n_col, 2.26 * n_row)) \n",
    "    plt.suptitle(title, size=16)\n",
    "\n",
    "    for i, comp in enumerate(images):\n",
    "        plt.subplot(n_row, n_col, i + 1)\n",
    "        vmax = max(comp.max(), -comp.min())\n",
    "\n",
    "        plt.imshow(comp.reshape(image_shape), cmap=plt.cm.gray,\n",
    "                   interpolation='nearest', vmin=-vmax, vmax=vmax)\n",
    "        plt.xticks(())\n",
    "        plt.yticks(())\n",
    "    plt.subplots_adjust(0.01, 0.05, 0.99, 0.94, 0.04, 0.)\n",
    "\n",
    "    \n",
    "plot_gallery(\"First centered Olivetti faces\", faces[:n_components])\n",
    "###############################################################################\n",
    "\n",
    "estimators = [\n",
    "    ('Eigenfaces - PCA using randomized SVD',\n",
    "         decomposition.PCA(n_components=6,whiten=True)),\n",
    "\n",
    "    ('Non-negative components - NMF',\n",
    "         decomposition.NMF(n_components=6, init='nndsvda', tol=5e-3))\n",
    "]\n",
    "\n",
    "###############################################################################\n",
    "\n",
    "for name, estimator in estimators:\n",
    "    print(\"Extracting the top %d %s...\" % (n_components, name))\n",
    "    print(faces.shape)\n",
    "    estimator.fit(faces)\n",
    "    components_ = estimator.components_\n",
    "    plot_gallery(name, components_[:n_components])\n",
    "\n",
    "plt.show()"
   ]
  },
  {
   "cell_type": "code",
   "execution_count": null,
   "metadata": {
    "collapsed": true
   },
   "outputs": [],
   "source": []
  }
 ],
 "metadata": {
  "kernelspec": {
   "display_name": "Python 3",
   "language": "python",
   "name": "python3"
  },
  "language_info": {
   "codemirror_mode": {
    "name": "ipython",
    "version": 3
   },
   "file_extension": ".py",
   "mimetype": "text/x-python",
   "name": "python",
   "nbconvert_exporter": "python",
   "pygments_lexer": "ipython3",
   "version": "3.6.3"
  }
 },
 "nbformat": 4,
 "nbformat_minor": 2
}
