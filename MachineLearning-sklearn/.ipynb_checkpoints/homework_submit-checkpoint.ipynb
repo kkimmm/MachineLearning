{
 "cells": [
  {
   "cell_type": "code",
   "execution_count": 67,
   "metadata": {},
   "outputs": [
    {
     "name": "stderr",
     "output_type": "stream",
     "text": [
      "/Users/gkai/anaconda3/lib/python3.6/site-packages/ipykernel_launcher.py:8: ParserWarning: Falling back to the 'python' engine because the 'c' engine does not support regex separators (separators > 1 char and different from '\\s+' are interpreted as regex); you can avoid this warning by specifying engine='python'.\n",
      "  \n"
     ]
    },
    {
     "data": {
      "image/png": "[encoded data removed]",
      "text/plain": [
       "<matplotlib.figure.Figure at 0x1a23d0bda0>"
      ]
     },
     "metadata": {},
     "output_type": "display_data"
    },
    {
     "name": "stdout",
     "output_type": "stream",
     "text": [
      "按照列聚类后的结果为（数字即为相应列的聚类划分结果）：\n",
      " [3 3 3 3 3 3 3 3 3 3 3 3 1 1 1 1 1 1 1 1 1 1 1 1 1 1 1 1 2 2 2 2 2 2 2 2 2\n",
      " 2 2 2 2 2 2 2 4 4 4 2 2 2 4 4 2 2 2 2 2 2 2 2 0 0 0 0 0 4 0 0 0 0 0 0 4 4\n",
      " 4 0 0 0 0 4 0 0 4 0 0 0 0 0 0 0] \n",
      "\n",
      "\n",
      "用表格形式显示：\n"
     ]
    },
    {
     "data": {
      "text/html": [
       "<div>\n",
       "<style>\n",
       "    .dataframe thead tr:only-child th {\n",
       "        text-align: right;\n",
       "    }\n",
       "\n",
       "    .dataframe thead th {\n",
       "        text-align: left;\n",
       "    }\n",
       "\n",
       "    .dataframe tbody tr th {\n",
       "        vertical-align: top;\n",
       "    }\n",
       "</style>\n",
       "<table border=\"1\" class=\"dataframe\">\n",
       "  <thead>\n",
       "    <tr style=\"text-align: right;\">\n",
       "      <th></th>\n",
       "      <th>0</th>\n",
       "      <th>1</th>\n",
       "      <th>2</th>\n",
       "      <th>3</th>\n",
       "      <th>4</th>\n",
       "      <th>5</th>\n",
       "      <th>6</th>\n",
       "      <th>7</th>\n",
       "      <th>8</th>\n",
       "      <th>9</th>\n",
       "      <th>...</th>\n",
       "      <th>80</th>\n",
       "      <th>81</th>\n",
       "      <th>82</th>\n",
       "      <th>83</th>\n",
       "      <th>84</th>\n",
       "      <th>85</th>\n",
       "      <th>86</th>\n",
       "      <th>87</th>\n",
       "      <th>88</th>\n",
       "      <th>89</th>\n",
       "    </tr>\n",
       "  </thead>\n",
       "  <tbody>\n",
       "    <tr>\n",
       "      <th>0</th>\n",
       "      <td>3</td>\n",
       "      <td>3</td>\n",
       "      <td>3</td>\n",
       "      <td>3</td>\n",
       "      <td>3</td>\n",
       "      <td>3</td>\n",
       "      <td>3</td>\n",
       "      <td>3</td>\n",
       "      <td>3</td>\n",
       "      <td>3</td>\n",
       "      <td>...</td>\n",
       "      <td>0</td>\n",
       "      <td>0</td>\n",
       "      <td>4</td>\n",
       "      <td>0</td>\n",
       "      <td>0</td>\n",
       "      <td>0</td>\n",
       "      <td>0</td>\n",
       "      <td>0</td>\n",
       "      <td>0</td>\n",
       "      <td>0</td>\n",
       "    </tr>\n",
       "  </tbody>\n",
       "</table>\n",
       "<p>1 rows × 90 columns</p>\n",
       "</div>"
      ],
      "text/plain": [
       "   0   1   2   3   4   5   6   7   8   9  ...  80  81  82  83  84  85  86  87  \\\n",
       "0   3   3   3   3   3   3   3   3   3   3 ...   0   0   4   0   0   0   0   0   \n",
       "\n",
       "   88  89  \n",
       "0   0   0  \n",
       "\n",
       "[1 rows x 90 columns]"
      ]
     },
     "execution_count": 67,
     "metadata": {},
     "output_type": "execute_result"
    }
   ],
   "source": [
    "#---------1.标准化+pca+kmeans------\n",
    "import pandas as pd\n",
    "import matplotlib.pyplot as plt\n",
    "from sklearn.cluster import KMeans\n",
    "from sklearn.cluster import DBSCAN\n",
    "from sklearn import preprocessing\n",
    "\n",
    "data = pd.read_csv('/Users/gkai/Desktop/data.txt',sep='[ |\\t]',header = None,skiprows = [0])#数据预处理\n",
    "data = data.drop(0,axis = 1)\n",
    "data = data.drop(1,axis = 1)\n",
    "\n",
    "X_scaled = preprocessing.scale(data)#无量纲化其一：标准化（按列进行均值标准化）\n",
    "\n",
    "X_scaled = X_scaled.T#因为要按列聚类，所以其属性（特征向量）是行，需要对行降维。因此需要对原数据矩阵转置\n",
    "from sklearn.decomposition import PCA #pca降维\n",
    "pca = PCA(n_components=10)\n",
    "pcadata = pca.fit(X_scaled).transform(X_scaled)\n",
    "\n",
    "\n",
    "km = KMeans(n_clusters = 5)#调用聚类方法，聚成n_clusters种类型\n",
    "km.fit(pcadata)\n",
    "labels = km.labels_ #测试点集每个数据点所属分组\n",
    "plt.plot(labels)\n",
    "plt.show()\n",
    "print('按照列聚类后的结果为（数字即为相应列的聚类划分结果）：\\n',labels,'\\n\\n\\n用表格形式显示：')\n",
    "pd.DataFrame(labels).T\n",
    "\n",
    "#dbs = DBSCAN(eps = 2, min_samples = 20).fit_predict(pcadata)#调用dbscan聚类方法\n",
    "#pd.DataFrame(dbs).T\n",
    "\n",
    "#pd.DataFrame(pcadata)"
   ]
  },
  {
   "cell_type": "code",
   "execution_count": 18,
   "metadata": {},
   "outputs": [],
   "source": [
    "#------lasso和lda分别是有监督的特征选择和有监督的降维方式，本例中都不适用（因为本例中没有标签label）\n",
    "\n",
    "'''\n",
    "from sklearn.feature_selection import SelectFromModel\n",
    "from sklearn.linear_model import LogisticRegression\n",
    "#带L1惩罚项的逻辑回归作为基模型的特征选择\n",
    "SelectFromModel(LogisticRegression(penalty=\"l1\", C=0.1)).fit_transform(X_scaled[1,:], X_scaled[2,:])\n",
    "\n",
    "from sklearn.discriminant_analysis import LinearDiscriminantAnalysis\n",
    "lda = LinearDiscriminantAnalysis(n_components=10)\n",
    "lda.fit(X_scaled).transform(X_scaled)\n",
    "'''"
   ]
  },
  {
   "cell_type": "code",
   "execution_count": 68,
   "metadata": {},
   "outputs": [
    {
     "data": {
      "image/png": "[encoded data removed]",
      "text/plain": [
       "<matplotlib.figure.Figure at 0x1a241a2400>"
      ]
     },
     "metadata": {},
     "output_type": "display_data"
    },
    {
     "name": "stdout",
     "output_type": "stream",
     "text": [
      "按照列聚类后的结果为（数字即为相应列的聚类划分结果）：\n",
      " [4 4 4 4 4 4 4 4 4 4 4 4 1 1 1 1 1 1 1 1 1 1 1 1 2 2 2 2 0 2 2 0 0 0 0 2 2\n",
      " 2 2 2 2 2 2 2 0 0 0 0 0 0 0 0 2 2 2 2 2 2 2 2 3 3 3 3 3 0 3 3 3 3 3 3 0 0\n",
      " 0 3 3 3 3 0 3 3 0 3 3 3 3 3 3 3] \n",
      "\n",
      "\n",
      "用表格形式显示：\n"
     ]
    },
    {
     "data": {
      "text/html": [
       "<div>\n",
       "<style>\n",
       "    .dataframe thead tr:only-child th {\n",
       "        text-align: right;\n",
       "    }\n",
       "\n",
       "    .dataframe thead th {\n",
       "        text-align: left;\n",
       "    }\n",
       "\n",
       "    .dataframe tbody tr th {\n",
       "        vertical-align: top;\n",
       "    }\n",
       "</style>\n",
       "<table border=\"1\" class=\"dataframe\">\n",
       "  <thead>\n",
       "    <tr style=\"text-align: right;\">\n",
       "      <th></th>\n",
       "      <th>0</th>\n",
       "      <th>1</th>\n",
       "      <th>2</th>\n",
       "      <th>3</th>\n",
       "      <th>4</th>\n",
       "      <th>5</th>\n",
       "      <th>6</th>\n",
       "      <th>7</th>\n",
       "      <th>8</th>\n",
       "      <th>9</th>\n",
       "      <th>...</th>\n",
       "      <th>80</th>\n",
       "      <th>81</th>\n",
       "      <th>82</th>\n",
       "      <th>83</th>\n",
       "      <th>84</th>\n",
       "      <th>85</th>\n",
       "      <th>86</th>\n",
       "      <th>87</th>\n",
       "      <th>88</th>\n",
       "      <th>89</th>\n",
       "    </tr>\n",
       "  </thead>\n",
       "  <tbody>\n",
       "    <tr>\n",
       "      <th>0</th>\n",
       "      <td>4</td>\n",
       "      <td>4</td>\n",
       "      <td>4</td>\n",
       "      <td>4</td>\n",
       "      <td>4</td>\n",
       "      <td>4</td>\n",
       "      <td>4</td>\n",
       "      <td>4</td>\n",
       "      <td>4</td>\n",
       "      <td>4</td>\n",
       "      <td>...</td>\n",
       "      <td>3</td>\n",
       "      <td>3</td>\n",
       "      <td>0</td>\n",
       "      <td>3</td>\n",
       "      <td>3</td>\n",
       "      <td>3</td>\n",
       "      <td>3</td>\n",
       "      <td>3</td>\n",
       "      <td>3</td>\n",
       "      <td>3</td>\n",
       "    </tr>\n",
       "  </tbody>\n",
       "</table>\n",
       "<p>1 rows × 90 columns</p>\n",
       "</div>"
      ],
      "text/plain": [
       "   0   1   2   3   4   5   6   7   8   9  ...  80  81  82  83  84  85  86  87  \\\n",
       "0   4   4   4   4   4   4   4   4   4   4 ...   3   3   0   3   3   3   3   3   \n",
       "\n",
       "   88  89  \n",
       "0   3   3  \n",
       "\n",
       "[1 rows x 90 columns]"
      ]
     },
     "execution_count": 68,
     "metadata": {},
     "output_type": "execute_result"
    }
   ],
   "source": [
    "#---------2.标准化+方差法+kmeans------\n",
    "from sklearn.feature_selection import VarianceThreshold\n",
    "#方差选择法，返回值为特征选择后的数据，参数threshold为方差的阈值\n",
    "vtdata = VarianceThreshold(threshold=3).fit_transform(X_scaled)\n",
    "\n",
    "\n",
    "km = KMeans(n_clusters = 5)#调用聚类方法，聚成n_clusters种类型\n",
    "km.fit(vtdata)\n",
    "labels = km.labels_ #测试点集每个数据点所属分组\n",
    "plt.plot(labels)\n",
    "plt.show()\n",
    "print('按照列聚类后的结果为（数字即为相应列的聚类划分结果）：\\n',labels,'\\n\\n\\n用表格形式显示：')\n",
    "pd.DataFrame(labels).T\n",
    "\n",
    "#pd.DataFrame(s)"
   ]
  },
  {
   "cell_type": "code",
   "execution_count": 75,
   "metadata": {},
   "outputs": [
    {
     "data": {
      "image/png": "[encoded data removed]",
      "text/plain": [
       "<matplotlib.figure.Figure at 0x1a24bb0b00>"
      ]
     },
     "metadata": {},
     "output_type": "display_data"
    },
    {
     "name": "stdout",
     "output_type": "stream",
     "text": [
      "按照列聚类后的结果为（数字即为相应列的聚类划分结果）：\n",
      " [2 2 2 2 2 2 2 2 2 2 2 2 2 2 2 2 2 2 2 2 2 2 2 2 1 1 1 1 1 1 1 1 1 1 1 1 1\n",
      " 1 1 1 1 1 1 1 0 0 0 1 1 1 0 0 1 1 1 1 1 1 1 1 4 4 4 4 4 0 4 4 4 4 4 4 0 0\n",
      " 0 4 4 4 4 0 4 4 0 3 3 3 3 3 3 3] \n",
      "\n",
      "\n",
      "用表格形式显示：\n"
     ]
    },
    {
     "data": {
      "text/html": [
       "<div>\n",
       "<style>\n",
       "    .dataframe thead tr:only-child th {\n",
       "        text-align: right;\n",
       "    }\n",
       "\n",
       "    .dataframe thead th {\n",
       "        text-align: left;\n",
       "    }\n",
       "\n",
       "    .dataframe tbody tr th {\n",
       "        vertical-align: top;\n",
       "    }\n",
       "</style>\n",
       "<table border=\"1\" class=\"dataframe\">\n",
       "  <thead>\n",
       "    <tr style=\"text-align: right;\">\n",
       "      <th></th>\n",
       "      <th>0</th>\n",
       "      <th>1</th>\n",
       "      <th>2</th>\n",
       "      <th>3</th>\n",
       "      <th>4</th>\n",
       "      <th>5</th>\n",
       "      <th>6</th>\n",
       "      <th>7</th>\n",
       "      <th>8</th>\n",
       "      <th>9</th>\n",
       "      <th>...</th>\n",
       "      <th>80</th>\n",
       "      <th>81</th>\n",
       "      <th>82</th>\n",
       "      <th>83</th>\n",
       "      <th>84</th>\n",
       "      <th>85</th>\n",
       "      <th>86</th>\n",
       "      <th>87</th>\n",
       "      <th>88</th>\n",
       "      <th>89</th>\n",
       "    </tr>\n",
       "  </thead>\n",
       "  <tbody>\n",
       "    <tr>\n",
       "      <th>0</th>\n",
       "      <td>2</td>\n",
       "      <td>2</td>\n",
       "      <td>2</td>\n",
       "      <td>2</td>\n",
       "      <td>2</td>\n",
       "      <td>2</td>\n",
       "      <td>2</td>\n",
       "      <td>2</td>\n",
       "      <td>2</td>\n",
       "      <td>2</td>\n",
       "      <td>...</td>\n",
       "      <td>4</td>\n",
       "      <td>4</td>\n",
       "      <td>0</td>\n",
       "      <td>3</td>\n",
       "      <td>3</td>\n",
       "      <td>3</td>\n",
       "      <td>3</td>\n",
       "      <td>3</td>\n",
       "      <td>3</td>\n",
       "      <td>3</td>\n",
       "    </tr>\n",
       "  </tbody>\n",
       "</table>\n",
       "<p>1 rows × 90 columns</p>\n",
       "</div>"
      ],
      "text/plain": [
       "   0   1   2   3   4   5   6   7   8   9  ...  80  81  82  83  84  85  86  87  \\\n",
       "0   2   2   2   2   2   2   2   2   2   2 ...   4   4   0   3   3   3   3   3   \n",
       "\n",
       "   88  89  \n",
       "0   3   3  \n",
       "\n",
       "[1 rows x 90 columns]"
      ]
     },
     "execution_count": 75,
     "metadata": {},
     "output_type": "execute_result"
    }
   ],
   "source": [
    "#-------区间缩减法+pca+kmeans\n",
    "min_max_scaler = preprocessing.MinMaxScaler()  #无量纲化其二：区间缩放法，将特征的取值缩小到一个范围（一般是0到1）\n",
    "X_minMax = min_max_scaler.fit_transform(data) \n",
    "\n",
    "X_minMax = X_minMax.T#因为要按列聚类，所以其属性（特征向量）是行，需要对行降维。因此需要对原数据矩阵转置\n",
    "from sklearn.decomposition import PCA #pca降维\n",
    "pca = PCA(n_components=10)\n",
    "\n",
    "pcadata = pca.fit(X_minMax).transform(X_minMax)\n",
    "\n",
    "km = KMeans(n_clusters = 5)#调用聚类方法，聚成n_clusters种类型\n",
    "km.fit(pcadata)\n",
    "labels = km.labels_ #测试点集每个数据点所属分组\n",
    "plt.plot(labels)\n",
    "plt.show()\n",
    "print('按照列聚类后的结果为（数字即为相应列的聚类划分结果）：\\n',labels,'\\n\\n\\n用表格形式显示：')\n",
    "pd.DataFrame(labels).T"
   ]
  },
  {
   "cell_type": "code",
   "execution_count": null,
   "metadata": {
    "collapsed": true
   },
   "outputs": [],
   "source": []
  }
 ],
 "metadata": {
  "kernelspec": {
   "display_name": "Python 3",
   "language": "python",
   "name": "python3"
  },
  "language_info": {
   "codemirror_mode": {
    "name": "ipython",
    "version": 3
   },
   "file_extension": ".py",
   "mimetype": "text/x-python",
   "name": "python",
   "nbconvert_exporter": "python",
   "pygments_lexer": "ipython3",
   "version": "3.6.3"
  }
 },
 "nbformat": 4,
 "nbformat_minor": 2
}
