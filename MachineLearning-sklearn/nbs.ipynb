{
 "cells": [
  {
   "cell_type": "code",
   "execution_count": 5,
   "metadata": {},
   "outputs": [
    {
     "name": "stdout",
     "output_type": "stream",
     "text": [
      "==Predict result by predict== \n",
      " [1] \n",
      "\n",
      "==Predict result by predict_proba== \n",
      " [[  9.99999949e-01   5.05653254e-08]] \n",
      "\n",
      "==Predict result by predict_log_proba== \n",
      " [[ -5.05653266e-08  -1.67999998e+01]] \n",
      "\n"
     ]
    }
   ],
   "source": [
    "import numpy as np\n",
    "X = np.array([[-1, -1], [-2, -1], [-3, -2], [1, 1], [2, 1], [3, 2]])\n",
    "Y = np.array([1, 1, 1, 2, 2, 2])\n",
    "from sklearn.naive_bayes import GaussianNB\n",
    "clf = GaussianNB()\n",
    "\n",
    "clf.fit(X, Y)#拟合数据\n",
    "'''\n",
    "predict方法就是我们最常用的预测方法，直接给出测试集的预测类别输出;\n",
    "predict_proba则不同，它会给出测试集样本在各个类别上预测的概率;\n",
    "predict_log_proba和predict_proba类似，它会给出测试集样本在各个类别上预测的概率的一个对数转化,\n",
    "转化后predict_log_proba预测出的各个类别对数概率里的最大值对应的类别，也就是predict方法得到类别。\n",
    "'''\n",
    "print (\"==Predict result by predict==\",'\\n',clf.predict([[-0.8, -1]]),'\\n')\n",
    "print (\"==Predict result by predict_proba==\",'\\n',clf.predict_proba([[-0.8, -1]]),'\\n')\n",
    "print (\"==Predict result by predict_log_proba==\",'\\n',clf.predict_log_proba([[-0.8, -1]]),'\\n')"
   ]
  },
  {
   "cell_type": "code",
   "execution_count": null,
   "metadata": {
    "collapsed": true
   },
   "outputs": [],
   "source": [
    "　　　　"
   ]
  }
 ],
 "metadata": {
  "kernelspec": {
   "display_name": "Python 3",
   "language": "python",
   "name": "python3"
  },
  "language_info": {
   "codemirror_mode": {
    "name": "ipython",
    "version": 3
   },
   "file_extension": ".py",
   "mimetype": "text/x-python",
   "name": "python",
   "nbconvert_exporter": "python",
   "pygments_lexer": "ipython3",
   "version": "3.6.3"
  }
 },
 "nbformat": 4,
 "nbformat_minor": 2
}
