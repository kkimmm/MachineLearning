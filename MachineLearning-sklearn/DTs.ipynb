{
 "cells": [
  {
   "cell_type": "code",
   "execution_count": 28,
   "metadata": {},
   "outputs": [
    {
     "name": "stdout",
     "output_type": "stream",
     "text": [
      "预测结果分类为： [1]\n"
     ]
    }
   ],
   "source": [
    "from sklearn import tree\n",
    "X = [[0, 0], [1, 1]]\n",
    "Y = [0, 1]\n",
    "clf = tree.DecisionTreeClassifier()\n",
    "clf = clf.fit(X, Y)\n",
    "print('预测结果分类为：',clf.predict([[2., 2.]]))"
   ]
  },
  {
   "cell_type": "code",
   "execution_count": 30,
   "metadata": {},
   "outputs": [
    {
     "name": "stdout",
     "output_type": "stream",
     "text": [
      "决策树分类结果： [1 0 2 1 1 0 1 2 1 1 2 0 0 0 0 1 2 1 1 2 0 2 0 2 2 2 2 2 0 0 0 0 1 0 0 2 1\n",
      " 0 0 0 2 1 1 0 0] \n",
      "\n",
      "原来划分的分类： [1 0 2 1 1 0 1 2 1 1 2 0 0 0 0 1 2 1 1 2 0 2 0 2 2 2 2 2 0 0 0 0 1 0 0 2 1\n",
      " 0 0 0 2 1 1 0 0]\n"
     ]
    }
   ],
   "source": [
    "from sklearn import datasets\n",
    "iris = datasets.load_iris() #加载 iris 数据集\n",
    "iris_feature = iris.data #特征数据\n",
    "iris_target = iris.target #分类数据\n",
    "from sklearn.cross_validation import train_test_split#导入自动生成测试集和评测集的模块train_test_split\n",
    "\n",
    "feature_train, feature_test, target_train, target_test = train_test_split(iris_feature, iris_target, test_size=0.3, random_state=42)\n",
    "from sklearn.tree import DecisionTreeClassifier\n",
    "\n",
    "dt_model = DecisionTreeClassifier() # 参数均置为默认状态\n",
    "dt_model.fit(feature_train,target_train) # 使用训练集训练模型\n",
    "predict_results = dt_model.predict(feature_test) # 使用模型对测试集进行预测\n",
    "print('决策树分类结果：',predict_results,'\\n')\n",
    "print('原来划分的分类：',target_test)"
   ]
  },
  {
   "cell_type": "code",
   "execution_count": null,
   "metadata": {
    "collapsed": true
   },
   "outputs": [],
   "source": [
    "from sklearn.datasets import load_iris\n",
    "import numpy as np\n",
    "\n",
    "iris = load_iris()\n",
    "clf = tree.DecisionTreeClassifier()\n",
    "clf.fit(iris.data, iris.target)\n",
    "\n",
    "pre_data = np.array([[1,2,4,5],[1,1,1,1],[1,2,3,4]])#待预测数据\n",
    "predict = clf.predict(pre_data)#预测\n",
    "\n",
    "print (predict)\n",
    "print (iris.target_names[predict])"
   ]
  }
 ],
 "metadata": {
  "kernelspec": {
   "display_name": "Python 3",
   "language": "python",
   "name": "python3"
  },
  "language_info": {
   "codemirror_mode": {
    "name": "ipython",
    "version": 3
   },
   "file_extension": ".py",
   "mimetype": "text/x-python",
   "name": "python",
   "nbconvert_exporter": "python",
   "pygments_lexer": "ipython3",
   "version": "3.6.3"
  }
 },
 "nbformat": 4,
 "nbformat_minor": 2
}
